{
  "nbformat": 4,
  "nbformat_minor": 0,
  "metadata": {
    "colab": {
      "name": "Proj_Google_quest.ipynb",
      "provenance": [],
      "collapsed_sections": [],
      "private_outputs": true,
      "mount_file_id": "1Wo3Fk57tD_ERqvvD1ksOlRI6bA6KH_AU",
      "authorship_tag": "ABX9TyNe7sf2uvUR0Btp0gesHx/9",
      "include_colab_link": true
    },
    "kernelspec": {
      "name": "python3",
      "display_name": "Python 3"
    },
    "language_info": {
      "name": "python"
    },
    "accelerator": "GPU"
  },
  "cells": [
    {
      "cell_type": "markdown",
      "metadata": {
        "id": "view-in-github",
        "colab_type": "text"
      },
      "source": [
        "<a href=\"https://colab.research.google.com/github/Mrinmayeed123/Market-Microstructure-and-R-/blob/main/Proj_Google_quest.ipynb\" target=\"_parent\"><img src=\"https://colab.research.google.com/assets/colab-badge.svg\" alt=\"Open In Colab\"/></a>"
      ]
    },
    {
      "cell_type": "code",
      "source": [
        "! pip install kaggle        #Install the Kaggle library"
      ],
      "metadata": {
        "id": "7cd3AgHEpwnZ"
      },
      "execution_count": null,
      "outputs": []
    },
    {
      "cell_type": "code",
      "source": [
        "! mkdir ~/.kaggle            #Make a directory named “.kaggle”"
      ],
      "metadata": {
        "id": "0Wne403apxCd"
      },
      "execution_count": null,
      "outputs": []
    },
    {
      "cell_type": "code",
      "source": [
        "! cp kaggle.json ~/.kaggle/            #Copy the “kaggle.json” into this new directory"
      ],
      "metadata": {
        "id": "UrgKGOF-pxFV"
      },
      "execution_count": null,
      "outputs": []
    },
    {
      "cell_type": "code",
      "source": [
        "! chmod 600 ~/.kaggle/kaggle.json              #Allocate the required permission for this file."
      ],
      "metadata": {
        "id": "f_KbpMltqB1n"
      },
      "execution_count": null,
      "outputs": []
    },
    {
      "cell_type": "code",
      "source": [
        "!kaggle competitions download -c google-quest-challenge        #Downloading Competitions dataset"
      ],
      "metadata": {
        "id": "R8cmw1DgqB-Y"
      },
      "execution_count": null,
      "outputs": []
    },
    {
      "cell_type": "code",
      "source": [
        "from zipfile import ZipFile       "
      ],
      "metadata": {
        "id": "RrSCW7r7qtqu"
      },
      "execution_count": null,
      "outputs": []
    },
    {
      "cell_type": "code",
      "source": [
        "! unzip google-quest-challenge.zip       #open the zip folder"
      ],
      "metadata": {
        "id": "p1hLQmnvGIjr"
      },
      "execution_count": null,
      "outputs": []
    },
    {
      "cell_type": "code",
      "source": [
        "#Import primary libraries\n",
        "import pandas as pd\n",
        "import numpy as np\n",
        "np.set_printoptions(precision = 3, suppress = True)"
      ],
      "metadata": {
        "id": "1R1L3HCfF2Fz"
      },
      "execution_count": null,
      "outputs": []
    },
    {
      "cell_type": "code",
      "source": [
        "# load the data sets as dataframes using pandas\n",
        "train = pd.read_csv('train.csv')\n",
        "test = pd.read_csv('test.csv')\n",
        "sample_submission = pd.read_csv('sample_submission.csv')"
      ],
      "metadata": {
        "id": "Bocz6ZXxrFmG"
      },
      "execution_count": null,
      "outputs": []
    },
    {
      "cell_type": "code",
      "source": [
        "#Shape meaning no. of rows and columns in the train dataframe\n",
        "print(\"train set:\", train.shape)\n",
        "#Also the no. of rows and columns in the test dataframe\n",
        "print(\"trat set:\", test.shape)\n",
        "#the no. of rows and columns in the sample_submission dataframe\n",
        "print(\"sample submission set:\", sample_submission.shape)"
      ],
      "metadata": {
        "id": "yAVZh-VwrFp3"
      },
      "execution_count": null,
      "outputs": []
    },
    {
      "cell_type": "code",
      "source": [
        "sample_submission.columns  # check the column"
      ],
      "metadata": {
        "id": "4Kp-6uUgtGAY"
      },
      "execution_count": null,
      "outputs": []
    },
    {
      "cell_type": "code",
      "source": [
        "train.columns  # check the column names"
      ],
      "metadata": {
        "id": "kJXX1pBVtl2-"
      },
      "execution_count": null,
      "outputs": []
    },
    {
      "cell_type": "code",
      "source": [
        "train.info()    #see the datatype of each column\n",
        "# 1 integer type, 10 string tyope and 30 foalt type "
      ],
      "metadata": {
        "id": "Hv9O-Dqd7-Wi"
      },
      "execution_count": null,
      "outputs": []
    },
    {
      "cell_type": "code",
      "source": [
        "test.info()    #see the datatype of each column\n",
        "#1 integer datatype, 10 string datatype "
      ],
      "metadata": {
        "id": "mKNGiLROrqYq"
      },
      "execution_count": null,
      "outputs": []
    },
    {
      "cell_type": "code",
      "source": [
        "#check if any null value in train dataframe\n",
        "train.isna().sum()"
      ],
      "metadata": {
        "id": "XFtzuj-1rTVI"
      },
      "execution_count": null,
      "outputs": []
    },
    {
      "cell_type": "code",
      "source": [
        "#check if any null value in test dataframe\n",
        "test.isna().sum()"
      ],
      "metadata": {
        "id": "UHNifhygrZQE"
      },
      "execution_count": null,
      "outputs": []
    },
    {
      "cell_type": "code",
      "source": [
        "#Basic feature in train dataset\n",
        "\n",
        "columns = []\n",
        "for cols  in  train.columns:\n",
        "  c=cols not in sample_submission.columns\n",
        "  print(c)\n",
        "  columns.append(cols)\n",
        "\n",
        "  #These  columns are basic features of a question\n",
        "columns = [cols for cols  in  train.columns if cols not in sample_submission.columns]\n",
        "print(columns)\n",
        "train[columns].shape"
      ],
      "metadata": {
        "id": "hON9hiTqA35h"
      },
      "execution_count": null,
      "outputs": []
    },
    {
      "cell_type": "code",
      "source": [
        "train[columns].head(2)"
      ],
      "metadata": {
        "id": "oy-oKjogBEpp"
      },
      "execution_count": null,
      "outputs": []
    },
    {
      "cell_type": "code",
      "source": [
        "# text field of the train dataset\n",
        "\n",
        "question_id = 10\n",
        "print('Question Title: %s \\n' % train['question_title'].values[question_id])\n",
        "print('Question Body: %s \\n' % train['question_body'].values[question_id])\n",
        "print('Answer: %s' % train['answer'].values[question_id])"
      ],
      "metadata": {
        "id": "7O6dOLlhDK0u"
      },
      "execution_count": null,
      "outputs": []
    },
    {
      "cell_type": "code",
      "source": [
        "# 30 target columns\n",
        "\n",
        "target_columns = [cols for cols  in  train.columns if cols in sample_submission.columns]\n",
        "target_columns.remove('qa_id')\n"
      ],
      "metadata": {
        "id": "4digq601GGOb"
      },
      "execution_count": null,
      "outputs": []
    },
    {
      "cell_type": "code",
      "source": [
        "len(train['question_asker_intent_understanding'])"
      ],
      "metadata": {
        "id": "-GhkkuYIGh9S"
      },
      "execution_count": null,
      "outputs": []
    },
    {
      "cell_type": "code",
      "source": [
        ""
      ],
      "metadata": {
        "id": "VxRXT4z9Sb5J"
      },
      "execution_count": null,
      "outputs": []
    },
    {
      "cell_type": "code",
      "source": [
        "#target labels for the questions\n",
        "\n",
        "question_labels = ['question_asker_intent_understanding','question_body_critical', 'question_conversational', \n",
        "                        'question_expect_short_answer', 'question_fact_seeking', 'question_has_commonly_accepted_answer',\n",
        "                        'question_interestingness_others', 'question_interestingness_self', 'question_multi_intent', \n",
        "                        'question_not_really_a_question', 'question_opinion_seeking', 'question_type_choice',\n",
        "                        'question_type_compare', 'question_type_consequence', 'question_type_definition', \n",
        "                        'question_type_entity', 'question_type_instructions', 'question_type_procedure',\n",
        "                        'question_type_reason_explanation', 'question_type_spelling', 'question_well_written']\n",
        "\n",
        "print('Question labels:')\n",
        "display(train.iloc[[question_id]][question_labels])"
      ],
      "metadata": {
        "id": "I4kbL6f1HtMw"
      },
      "execution_count": null,
      "outputs": []
    },
    {
      "cell_type": "code",
      "source": [
        "# visualizing Target labels for questions\n",
        "\n",
        "import plotly.graph_objects as go\n",
        "from plotly.subplots import make_subplots\n",
        "\n",
        "fig = make_subplots(rows=5, cols=5)\n",
        "\n",
        "trace1 = go.Bar(x= train['question_asker_intent_understanding'].value_counts().index, y=train['question_asker_intent_understanding'].value_counts().values)\n",
        "fig.append_trace(trace1, 1, 1)\n",
        "\n",
        "trace2 = go.Bar(x= train['question_body_critical'].value_counts().index, y=train['question_body_critical'].value_counts().values)\n",
        "fig.append_trace(trace2, 1, 2)\n",
        "\n",
        "trace3 = go.Bar(x= train['question_conversational'].value_counts().index, y=train['question_conversational'].value_counts().values)\n",
        "fig.append_trace(trace3, 1, 3)\n",
        "\n",
        "trace4 = go.Bar(x= train['question_expect_short_answer'].value_counts().index, y=train['question_expect_short_answer'].value_counts().values)\n",
        "fig.append_trace(trace4, 1, 4)\n",
        "\n",
        "trace5 = go.Bar(x= train['question_fact_seeking'].value_counts().index, y=train['question_fact_seeking'].value_counts().values)\n",
        "fig.append_trace(trace5, 1, 5)\n",
        "\n",
        "trace6 = go.Bar(x= train['question_has_commonly_accepted_answer'].value_counts().index, y=train['question_has_commonly_accepted_answer'].value_counts().values)\n",
        "fig.append_trace(trace6, 2, 1)\n",
        "\n",
        "trace7 = go.Bar(x= train['question_interestingness_others'].value_counts().index, y=train['question_interestingness_others'].value_counts().values)\n",
        "fig.append_trace(trace7, 2, 2)\n",
        "\n",
        "trace8 = go.Bar(x= train['question_interestingness_self'].value_counts().index, y=train['question_interestingness_self'].value_counts().values)\n",
        "fig.append_trace(trace8, 2, 3)\n",
        "\n",
        "trace9 = go.Bar(x= train['question_multi_intent'].value_counts().index, y=train['question_multi_intent'].value_counts().values)\n",
        "fig.append_trace(trace9, 2, 4)\n",
        "\n",
        "trace10 = go.Bar(x= train['question_not_really_a_question'].value_counts().index, y=train['question_not_really_a_question'].value_counts().values)\n",
        "fig.append_trace(trace10, 2, 5)\n",
        "\n",
        "trace11 = go.Bar(x= train['question_opinion_seeking'].value_counts().index, y=train['question_opinion_seeking'].value_counts().values)\n",
        "fig.append_trace(trace11, 3, 1)\n",
        "\n",
        "trace12 = go.Bar(x= train['question_type_choice'].value_counts().index, y=train['question_type_choice'].value_counts().values)\n",
        "fig.append_trace(trace11, 3, 2)\n",
        "\n",
        "trace13 = go.Bar(x= train['question_type_compare'].value_counts().index, y=train['question_type_compare'].value_counts().values)\n",
        "fig.append_trace(trace12, 3, 3)\n",
        "\n",
        "trace14 = go.Bar(x= train['question_type_consequence'].value_counts().index, y=train['question_type_consequence'].value_counts().values)\n",
        "fig.append_trace(trace14, 3, 4)\n",
        "\n",
        "trace15 = go.Bar(x= train['question_type_definition'].value_counts().index, y=train['question_type_definition'].value_counts().values)\n",
        "fig.append_trace(trace15, 3, 5)\n",
        "\n",
        "trace16 = go.Bar(x= train['question_type_entity'].value_counts().index, y=train['question_type_entity'].value_counts().values)\n",
        "fig.append_trace(trace16, 4, 1)\n",
        "\n",
        "trace17 = go.Bar(x= train['question_type_instructions'].value_counts().index, y=train['question_type_instructions'].value_counts().values)\n",
        "fig.append_trace(trace17, 4, 2)\n",
        "\n",
        "trace18 = go.Bar(x= train['question_type_procedure'].value_counts().index, y=train['question_type_procedure'].value_counts().values)\n",
        "fig.append_trace(trace18, 4, 3)\n",
        "\n",
        "trace19 = go.Bar(x= train['question_type_reason_explanation'].value_counts().index, y=train['question_type_reason_explanation'].value_counts().values)\n",
        "fig.append_trace(trace19, 4, 4)\n",
        "\n",
        "trace20 = go.Bar(x= train['question_type_spelling'].value_counts().index, y=train['question_type_spelling'].value_counts().values)\n",
        "fig.append_trace(trace20, 4, 5)\n",
        "\n",
        "trace21 = go.Bar(x= train['question_well_written'].value_counts().index, y=train['question_well_written'].value_counts().values)\n",
        "fig.append_trace(trace21, 5, 1)\n",
        "\n",
        "fig.show()"
      ],
      "metadata": {
        "id": "OxcFMvERt_6Q"
      },
      "execution_count": null,
      "outputs": []
    },
    {
      "cell_type": "code",
      "source": [
        "#labels for the answers\n",
        "\n",
        "\n",
        "answer_labels = ['answer_helpful', 'answer_level_of_information', 'answer_plausible', 'answer_relevance',\n",
        "                      'answer_satisfaction', 'answer_type_instructions', 'answer_type_procedure', \n",
        "                      'answer_type_reason_explanation', 'answer_well_written']\n",
        "print('Answer labels:')\n",
        "display(train.iloc[[question_id]][answer_labels])"
      ],
      "metadata": {
        "id": "Ln5JF5KcD5Ll"
      },
      "execution_count": null,
      "outputs": []
    },
    {
      "cell_type": "code",
      "source": [
        "#Visualizing target labels for the answers\n",
        "fig = make_subplots(rows=5, cols=2)\n",
        "\n",
        "trace1 = go.Bar(x= train['answer_helpful'].value_counts().index, y=train['answer_helpful'].value_counts().values)\n",
        "fig.append_trace(trace1, 1, 1)\n",
        "\n",
        "trace2 = go.Bar(x= train['answer_level_of_information'].value_counts().index, y=train['answer_level_of_information'].value_counts().values)\n",
        "fig.append_trace(trace2, 1, 2)\n",
        "\n",
        "trace3 = go.Bar(x= train['answer_plausible'].value_counts().index, y=train['answer_plausible'].value_counts().values)\n",
        "fig.append_trace(trace3, 2, 1)\n",
        "\n",
        "trace4 = go.Bar(x= train['answer_relevance'].value_counts().index, y=train['answer_relevance'].value_counts().values)\n",
        "fig.append_trace(trace4, 2, 2)\n",
        "\n",
        "trace5 = go.Bar(x= train['answer_satisfaction'].value_counts().index, y=train['answer_satisfaction'].value_counts().values)\n",
        "fig.append_trace(trace5, 3, 1)\n",
        "\n",
        "trace6 = go.Bar(x= train['answer_type_instructions'].value_counts().index, y=train['answer_type_instructions'].value_counts().values)\n",
        "fig.append_trace(trace6, 3, 2)\n",
        "\n",
        "trace7 = go.Bar(x= train['answer_type_procedure'].value_counts().index, y=train['answer_type_procedure'].value_counts().values)\n",
        "fig.append_trace(trace7, 4, 1)\n",
        "\n",
        "trace8 = go.Bar(x= train['answer_type_reason_explanation'].value_counts().index, y=train['answer_type_reason_explanation'].value_counts().values)\n",
        "fig.append_trace(trace8, 4, 2)\n",
        "\n",
        "trace9 = go.Bar(x= train['answer_well_written'].value_counts().index, y=train['answer_well_written'].value_counts().values)\n",
        "fig.append_trace(trace9, 5, 1)\n",
        "\n",
        "fig.show()"
      ],
      "metadata": {
        "id": "UIOQYjR-2095"
      },
      "execution_count": null,
      "outputs": []
    },
    {
      "cell_type": "markdown",
      "source": [
        ""
      ],
      "metadata": {
        "id": "WyW-HKnY20s-"
      }
    },
    {
      "cell_type": "code",
      "source": [
        "# let's count the question\n",
        "import matplotlib.pyplot as plt\n",
        "import seaborn as sns\n",
        "complete_set = train.append(test)\n",
        "group_q = complete_set[['qa_id', 'question_user_page']].groupby([ 'question_user_page'], as_index=False).count()\n",
        "group_q.columns = [ 'question_user_page', 'count']\n",
        "display(group_q.sort_values('count', ascending=False).head())\n",
        "\n",
        "\n",
        "train_group_q = train[['qa_id', 'question_user_page']].groupby('question_user_page', as_index=False).count()\n",
        "train_group_q.columns = ['host', 'Question count']\n",
        "\n",
        "test_group_q = test[['qa_id', 'question_user_page']].groupby('question_user_page', as_index=False).count()\n",
        "test_group_q.columns = ['host', 'Question count']\n",
        "\n",
        "\n",
        "\n",
        "\n",
        "sns.set(style=\"darkgrid\")\n",
        "f, (ax1, ax2) = plt.subplots(1, 2, figsize=(24, 6))\n",
        "\n",
        "sns.countplot(x=\"Question count\", data=train_group_q, palette=\"Set2\", ax=ax1).set_title(\"Train\")\n",
        "sns.countplot(x=\"Question count\", data=test_group_q, palette=\"Set2\", ax=ax2).set_title(\"Test\")\n",
        "plt.show()\n"
      ],
      "metadata": {
        "id": "ziYrxKy25QFb"
      },
      "execution_count": null,
      "outputs": []
    },
    {
      "cell_type": "code",
      "source": [
        "# Describing the train data\n",
        "train.describe()"
      ],
      "metadata": {
        "id": "cd-SuQ7YIiRC"
      },
      "execution_count": null,
      "outputs": []
    },
    {
      "cell_type": "code",
      "source": [
        "import plotly.express as px\n",
        "\n",
        "\n",
        "fig = px.scatter(train, y=\"host\", x=\"category\", color=\"category\", color_discrete_sequence=px.colors.sequential.RdBu)\n",
        "fig.update_traces(marker_size=10)\n",
        "fig.show()\n"
      ],
      "metadata": {
        "id": "ad3LGitctpa2"
      },
      "execution_count": null,
      "outputs": []
    },
    {
      "cell_type": "code",
      "source": [
        "#Question distibution of the host sites\n",
        "\n",
        "fig = px.pie(train, values='qa_id', names='host',\n",
        "             title='Distribution of the host sites',\n",
        "            labels={'category':'category'})\n",
        "fig.update_traces(hoverinfo='value+percent',textposition='inside', textinfo='percent+label')\n",
        "fig.show()"
      ],
      "metadata": {
        "id": "X9dBoHCAbSlv"
      },
      "execution_count": null,
      "outputs": []
    },
    {
      "cell_type": "code",
      "source": [
        "# Feature Engineering\n",
        "# A histogram, a kde plot  for question title\n",
        "import plotly.figure_factory as ff\n",
        "\n",
        "def word_count(sentense):\n",
        "    sentense = sentense.strip()\n",
        "\n",
        "    return len(sentense.split(\" \"))\n",
        "\n",
        "def char_count(s):\n",
        "    return len(s)\n",
        "\n",
        "\n",
        "#for test dataset\n",
        "train['train_question_title_n_chars'] = train['question_title'].apply(char_count)\n",
        "train['train_question_title_n_words'] = train['question_title'].apply(word_count)\n",
        "\n",
        "\n",
        "#for train dataset\n",
        "test['test_question_title_n_chars'] = test['question_title'].apply(char_count)\n",
        "test['test_question_title_n_words'] = test['question_title'].apply(word_count)\n",
        "\n",
        "\n",
        "# Add histogram data\n",
        "x1 = np.random.randn(1000) \n",
        "x2 = np.random.randn(1000)\n",
        "x3 = np.random.randn(1000) \n",
        "x4 = np.random.randn(1000) \n",
        "\n",
        "# Group data together\n",
        "hist_data1 = [x1, x2]\n",
        "hist_data2 = [x3, x4]\n",
        "\n",
        "group_labels1 = ['train_question_title_n_chars', 'test_question_title_n_chars']\n",
        "colors1 = ['#393E46', '#2BCDC1']\n",
        "\n",
        "group_labels2 = ['train_question_title_n_words', 'test_question_title_n_words']\n",
        "colors2 = ['slategray', 'magenta']\n",
        "\n",
        "# Create distplot with custom bin_size\n",
        "fig = ff.create_distplot(hist_data1, group_labels1, bin_size=.10, colors=colors1)\n",
        "fig2 = ff.create_distplot(hist_data2, group_labels2, bin_size=.10, colors=colors2)\n",
        "\n",
        "print('Train and test dataset comparison: A histogram, a kde plot are displayed for feature question title.')\n",
        "fig.show()\n",
        "fig2.show()\n",
        "\n"
      ],
      "metadata": {
        "id": "4UGX_00-_nGw"
      },
      "execution_count": null,
      "outputs": []
    },
    {
      "cell_type": "code",
      "source": [
        "# A histogram, a kde plot  for question body\n",
        "\n",
        "train['train_question_body_n_chars'] = train['question_body'].apply(char_count)\n",
        "train['train_question_body_n_words'] = train['question_body'].apply(word_count)\n",
        "\n",
        "\n",
        "\n",
        "test['test_question_body_n_chars'] = test['question_body'].apply(char_count)\n",
        "test['test_question_body_n_words'] = test['question_body'].apply(word_count)\n",
        "\n",
        "\n",
        "# Add histogram data\n",
        "x1 = np.random.randn(500) \n",
        "x2 = np.random.randn(500)\n",
        "x3 = np.random.randn(500) \n",
        "x4 = np.random.randn(500) \n",
        "\n",
        "# Group data together\n",
        "hist_data1 = [x1, x2]\n",
        "hist_data2 = [x3, x4]\n",
        "\n",
        "group_labels1 = ['train_question_body_n_chars', 'test_question_body_n_chars']\n",
        "colors1 = ['#393E46', '#2BCDC1']\n",
        "\n",
        "group_labels2 = ['train_question_body_n_words', 'test_question_body_n_words']\n",
        "colors2 = ['slategray', 'magenta']\n",
        "\n",
        "# Create distplot with custom bin_size\n",
        "fig = ff.create_distplot(hist_data1, group_labels1, bin_size=.10, colors=colors1)\n",
        "fig2 = ff.create_distplot(hist_data2, group_labels2, bin_size=.10, colors=colors2)\n",
        "\n",
        "print('A histogram, a kde plot are displayed for feature question_body.')\n",
        "fig.show()\n",
        "fig2.show()"
      ],
      "metadata": {
        "id": "l9ye2m85Sgx2"
      },
      "execution_count": null,
      "outputs": []
    },
    {
      "cell_type": "code",
      "source": [
        "# A histogram, a kde plot for 'answer' feasture\n",
        "\n",
        "train['train_answer_n_chars'] = train['answer'].apply(char_count)\n",
        "train['train_answer_n_words'] = train['answer'].apply(word_count)\n",
        "\n",
        "test['test_answer_n_chars'] = test['answer'].apply(char_count)\n",
        "test['test_answer_n_words'] = test['answer'].apply(word_count)\n",
        "\n",
        "# Add histogram data\n",
        "x1 = np.random.randn(500) \n",
        "x2 = np.random.randn(500)\n",
        "x3 = np.random.randn(500) \n",
        "x4 = np.random.randn(500) \n",
        "\n",
        "# Group data together\n",
        "hist_data1 = [x1, x2]\n",
        "hist_data2 = [x3, x4]\n",
        "\n",
        "group_labels1 = ['train_answer_n_chars', 'test_answer_n_chars']\n",
        "colors1 = ['#393E46', '#2BCDC1']\n",
        "\n",
        "group_labels2 = ['train_answer_n_words', 'test_answer_n_words']\n",
        "colors2 = ['slategray', 'magenta']\n",
        "\n",
        "# Create distplot with custom bin_size\n",
        "fig = ff.create_distplot(hist_data1, group_labels1, bin_size=.10, colors=colors1)\n",
        "fig2 = ff.create_distplot(hist_data2, group_labels2, bin_size=.10, colors=colors2)\n",
        "\n",
        "print('A histogram, a kde plot are displayed for feature Answer.')\n",
        "fig.show()\n",
        "fig2.show()\n"
      ],
      "metadata": {
        "id": "BxByXeqEVs_5"
      },
      "execution_count": null,
      "outputs": []
    },
    {
      "cell_type": "code",
      "source": [
        "# Correlation between target features and word length of question_title\n",
        "\n",
        "from scipy.spatial.distance import cdist\n",
        "\n",
        "def calc_corr(df, x_cols, y_cols):\n",
        "    arr1 = df[x_cols].T.values\n",
        "    arr2 = df[y_cols].T.values\n",
        "    df_corr = pd.DataFrame(1 - cdist(arr2, arr1, metric='correlation'), index=y_cols, columns=x_cols)\n",
        "    return df_corr\n",
        "\n",
        "\n",
        "question_title_feature = ['train_question_title_n_chars', 'train_question_title_n_words']\n",
        "\n",
        "print('feature:', question_title_feature)\n",
        "\n",
        "df_corr = calc_corr(train, target_columns, question_title_feature )\n",
        "\n",
        "\n",
        "fig, ax1 = plt.subplots(figsize=(30, 5))\n",
        "sns.heatmap(df_corr, ax=ax1, annot=True, cmap=\"YlGnBu\")\n"
      ],
      "metadata": {
        "id": "COHPOSvOW7RL"
      },
      "execution_count": null,
      "outputs": []
    },
    {
      "cell_type": "code",
      "source": [
        "# Correlation between charactor and word length of question_body\n",
        "\n",
        "\n",
        "\n",
        "def calc_corr(df, x_cols, y_cols):\n",
        "    arr1 = df[x_cols].T.values\n",
        "    arr2 = df[y_cols].T.values\n",
        "    df_corr = pd.DataFrame(1 - cdist(arr2, arr1, metric='correlation'), index=y_cols, columns=x_cols)\n",
        "    return df_corr\n",
        "\n",
        "\n",
        "question_answer_feature = ['train_question_body_n_chars', 'train_question_body_n_words']\n",
        "\n",
        "print('feature:', question_answer_feature)\n",
        "\n",
        "df_corr = calc_corr(train, target_columns, question_answer_feature )\n",
        "\n",
        "\n",
        "fig, ax1 = plt.subplots(figsize=(30, 5))\n",
        "sns.heatmap(df_corr, ax=ax1, annot=True, cmap=\"YlGnBu\")"
      ],
      "metadata": {
        "id": "ZKHkN7oigYRc"
      },
      "execution_count": null,
      "outputs": []
    },
    {
      "cell_type": "code",
      "source": [
        "# Correlation between charactor and word length of answer\n",
        "\n",
        "\n",
        "\n",
        "def calc_corr(df, x_cols, y_cols):\n",
        "    arr1 = df[x_cols].T.values\n",
        "    arr2 = df[y_cols].T.values\n",
        "    df_corr = pd.DataFrame(1 - cdist(arr2, arr1, metric='correlation'), index=y_cols, columns=x_cols)\n",
        "    return df_corr\n",
        "\n",
        "\n",
        "question_answer_feature = ['train_answer_n_chars', 'train_answer_n_words']\n",
        "\n",
        "print('feature:', question_answer_feature)\n",
        "\n",
        "df_corr = calc_corr(train, target_columns, question_answer_feature )\n",
        "\n",
        "\n",
        "fig, ax1 = plt.subplots(figsize=(30, 5))\n",
        "sns.heatmap(df_corr, ax=ax1, annot=True, cmap=\"YlGnBu\")\n"
      ],
      "metadata": {
        "id": "2ub6E6lFmDgJ"
      },
      "execution_count": null,
      "outputs": []
    },
    {
      "cell_type": "code",
      "source": [
        "from seaborn.palettes import color_palette\n",
        "# Word frequency\n",
        "import nltk\n",
        "from nltk import FreqDist\n",
        "nltk.download('stopwords')\n",
        "from nltk.corpus import stopwords\n",
        "Stopwords = set(stopwords.words('english'))\n",
        "\n",
        "train['question_title'] = train['question_title'].str.replace('[^a-z ]','')\n",
        "train['question_body'] = train['question_body'].str.replace('[^a-z ]','')\n",
        "train['answer'] = train['answer'].str.replace('[^a-z ]','')\n",
        "train['question_title'] = train['question_title'].apply(lambda x: x.lower())\n",
        "train['question_body'] = train['question_body'].apply(lambda x: x.lower())\n",
        "train['answer'] = train['answer'].apply(lambda x: x.lower())\n",
        "\n",
        "freq_dist = FreqDist([word for comment in train['question_title'] for word in comment.split() if word not in Stopwords])\n",
        "freq_dist\n",
        "plt.figure(figsize=(20, 6))\n",
        "plt.title('Word frequency on question title').set_fontsize(30)\n",
        "freq_dist.plot(80, marker='.', markersize=5)\n",
        "plt.show()\n",
        "\n",
        "req_dist = FreqDist([word for comment in train['question_body'] for word in comment.split() if word not in Stopwords])\n",
        "plt.figure(figsize=(20, 6))\n",
        "plt.title('Word frequency on question body').set_fontsize(20)\n",
        "freq_dist.plot(60, marker='.', markersize=10)\n",
        "plt.show()\n",
        "\n",
        "freq_dist = FreqDist([word for comment in train['answer'] for word in comment.split() if word not in Stopwords])\n",
        "plt.figure(figsize=(20, 6))\n",
        "plt.title('Word frequency on answer').set_fontsize(20)\n",
        "freq_dist.plot(60, marker='.', markersize=10)"
      ],
      "metadata": {
        "id": "dqepv6h8Wuvo"
      },
      "execution_count": null,
      "outputs": []
    },
    {
      "cell_type": "code",
      "source": [
        "test['question_title'] = test['question_title'].str.replace('[^a-z ]','')\n",
        "test['question_body'] = test['question_body'].str.replace('[^a-z ]','')\n",
        "test['answer'] = test['answer'].str.replace('[^a-z ]','')\n",
        "test['question_title'] = test['question_title'].apply(lambda x: x.lower())\n",
        "test['question_body'] = test['question_body'].apply(lambda x: x.lower())\n",
        "test['answer'] = test['answer'].apply(lambda x: x.lower())\n",
        "\n",
        "freq_dist = FreqDist([word for comment in test['question_title'] for word in comment.split() if word not in Stopwords])\n",
        "freq_dist\n",
        "plt.figure(figsize=(20, 6))\n",
        "plt.title('Word frequency on question title').set_fontsize(30)\n",
        "freq_dist.plot(80, marker='.', markersize=5)\n",
        "plt.show()\n",
        "\n",
        "req_dist = FreqDist([word for comment in test['question_body'] for word in comment.split() if word not in Stopwords])\n",
        "plt.figure(figsize=(20, 6))\n",
        "plt.title('Word frequency on question body').set_fontsize(20)\n",
        "freq_dist.plot(60, marker='.', markersize=10)\n",
        "plt.show()\n",
        "\n",
        "freq_dist = FreqDist([word for comment in test['answer'] for word in comment.split() if word not in Stopwords])\n",
        "plt.figure(figsize=(20, 6))\n",
        "plt.title('Word frequency on answer').set_fontsize(20)\n",
        "freq_dist.plot(60, marker='.', markersize=10)"
      ],
      "metadata": {
        "id": "Plb33u2BO-Kl"
      },
      "execution_count": null,
      "outputs": []
    }
  ]
}